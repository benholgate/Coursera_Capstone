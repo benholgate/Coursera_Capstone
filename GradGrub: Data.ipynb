{
    "cells": [
        {
            "cell_type": "markdown",
            "metadata": {
                "collapsed": true
            },
            "source": "# GradGrub Oxford"
        },
        {
            "cell_type": "markdown",
            "metadata": {},
            "source": "## The Battle of Neighborhoods assignment for IBM / Coursera Data Science course"
        },
        {
            "cell_type": "markdown",
            "metadata": {},
            "source": "## Description of the data and how it will be used to solve the problem"
        },
        {
            "cell_type": "markdown",
            "metadata": {},
            "source": "This project uses two key data sets to solve the problem.\n\n**1. University of Oxford\u2019s Colleges and Halls**\n\nThis is a list of Oxford\u2019s 45 colleges and halls that is taken from the URL __[link text](https://www.ox.ac.uk/about/colleges)__. The data is inputted manually into a csv file. The csv file is then downloaded to IBM Watson Studio in order to work with it within a Jupyter Notebook.\n\nThe addresses and postcodes for each of the colleges and halls are used to find the latitude and longitude coordinates for each of the colleges and halls. These geographical coordinates are then used to create a map of Oxford that is marked with the colleges and halls.\n\nThese coordinates are formed into a statistical cluster. The mean of the coordinates is then calculated to determine the center point of the cluster. This center point is the optimum location for the GradGrub food truck, in terms of convenience to students living in the colleges and halls.\n\n**2. Foursquare**\n\nThe Foursquare database is used to investigate GradGrub\u2019s competition in Oxford for hamburgers.\n\nFoursquare\u2019s complete list of categories are available at the URL __[link text](https://developer.foursquare.com/docs/build-with-foursquare/categories/)__. \n\nThis project identifies three subcategories under the main category of Food that are relevant to this investigation.\nThe subcategories are: American Restaurant, Burger Joint, and Food Truck.\n\nThe project then explores each of these subcategories in order to determine the range and characteristics of GradGrub\u2019s competition."
        }
    ],
    "metadata": {
        "kernelspec": {
            "display_name": "Python 3.6",
            "language": "python",
            "name": "python3"
        },
        "language_info": {
            "codemirror_mode": {
                "name": "ipython",
                "version": 3
            },
            "file_extension": ".py",
            "mimetype": "text/x-python",
            "name": "python",
            "nbconvert_exporter": "python",
            "pygments_lexer": "ipython3",
            "version": "3.6.9"
        }
    },
    "nbformat": 4,
    "nbformat_minor": 1
}