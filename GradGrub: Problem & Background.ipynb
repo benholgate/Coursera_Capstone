{
    "cells": [
        {
            "cell_type": "markdown",
            "metadata": {
                "collapsed": true
            },
            "source": "# GradGrub Oxford"
        },
        {
            "cell_type": "markdown",
            "metadata": {},
            "source": "## The Battle of Neighborhoods assignment for IBM / Coursera Data Science course"
        },
        {
            "cell_type": "markdown",
            "metadata": {},
            "source": "## Description of business problem and background"
        },
        {
            "cell_type": "markdown",
            "metadata": {},
            "source": "An entrepreneurial university student wants to launch a mobile food outlet called GradGrub that is targeted at other students. GradGrub\u2019s brand promise is cheap, healthy food that is both affordable for students and nutritious. With that aim, GradGrub will focus on healthy hamburgers, both of the meat variety and plant-based (vegetarian) variety. All ingredients are fresh.\n\nThe budding entrepreneur wants to test the first outlet in Oxford, England, an historic university city. Oxford was chosen because it\u2019s a relatively small city (population approx. 150,000) and has lots of university students.\n\nCritically, the University of Oxford consists of 45 individual colleges and halls that are located mostly in or near the city center. Almost all of the colleges and halls have residential accommodation for students. The mobile food outlet \u2013 a truck with a kitchen \u2013 must be placed in an ideal location that is closest to as many of the colleges as possible.\n\nBefore launching GradGrub, the budding entrepreneur wants two key questions answered:\n\nFirst, what is the optimum location to locate the food truck?\n\nSecond, what are the competitor hamburger outlets in Oxford?\n\nOxford has many restaurants, cafes, and other food outlets. Many of them are located in the city center and in nearby East Oxford. Our entrepreneur needs to survey the competition for hamburgers to ensure that GradGrub wins on price, product, and convenience of location."
        }
    ],
    "metadata": {
        "kernelspec": {
            "display_name": "Python 3.6",
            "language": "python",
            "name": "python3"
        },
        "language_info": {
            "codemirror_mode": {
                "name": "ipython",
                "version": 3
            },
            "file_extension": ".py",
            "mimetype": "text/x-python",
            "name": "python",
            "nbconvert_exporter": "python",
            "pygments_lexer": "ipython3",
            "version": "3.6.9"
        }
    },
    "nbformat": 4,
    "nbformat_minor": 1
}